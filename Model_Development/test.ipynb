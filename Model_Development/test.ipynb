{
 "cells": [
  {
   "cell_type": "code",
   "execution_count": 77,
   "metadata": {},
   "outputs": [
    {
     "name": "stdout",
     "output_type": "stream",
     "text": [
      "TF version: 2.9.1\n",
      "TF Hub version: 0.12.0\n",
      "GPU not available\n"
     ]
    }
   ],
   "source": [
    "#Import libraries\n",
    "import tensorflow as tf\n",
    "import tensorflow_hub as hub\n",
    "from sklearn.model_selection import train_test_split\n",
    "import matplotlib.pyplot as plt\n",
    "import numpy as np\n",
    "import os\n",
    "import datetime\n",
    "print(\"TF version:\", tf.__version__)\n",
    "print(\"TF Hub version:\", hub.__version__)\n",
    "\n",
    "#Check whether theres GPU available\n",
    "print(\"GPU\", \"available\" if tf.config.list_physical_devices(\"GPU\") else \"not available\")"
   ]
  },
  {
   "cell_type": "code",
   "execution_count": 32,
   "metadata": {},
   "outputs": [
    {
     "name": "stdout",
     "output_type": "stream",
     "text": [
      "Creating test data batches... BATCH SIZE=32\n"
     ]
    }
   ],
   "source": [
    "IMG_SIZE = 224\n",
    "batch_size = 32\n",
    "#Function for preprocessing\n",
    "def process_image(filename, img_size=IMG_SIZE):\n",
    "   #read image\n",
    "   image = tf.io.read_file(filename)\n",
    "\n",
    "   #turn jpeg to numerical Tensor with 3 color channels (RGB)\n",
    "   image = tf.image.decode_jpeg(image, channels=3)\n",
    "\n",
    "   #Convert colour channels values 0-255 to 0-1 values.\n",
    "   #This is a normalization process to make process more efficient.\n",
    "   image = tf.image.convert_image_dtype(image, tf.float32)\n",
    "\n",
    "   #Resize to (224,224)\n",
    "   image = tf.image.resize(image, size=[img_size, img_size])\n",
    "\n",
    "   return image\n",
    "\n",
    "# Function for data configuration (for performance) \n",
    "def configure_tensor(ds, shuffle=False):\n",
    "   if shuffle: # For train set\n",
    "      ds = ds.shuffle(buffer_size=1000) \n",
    "   ds = ds.batch(batch_size)\n",
    "   ds = ds.prefetch(buffer_size=tf.data.experimental.AUTOTUNE)\n",
    "   return ds\n",
    "\n",
    "print(f\"Creating test data batches... BATCH SIZE={batch_size}\")\n",
    "x = \"./Images/custom-images/WhatsApp Image 2022-06-16 at 8.28.28 PM.jpeg\"\n",
    "x_test = process_image(x)\n",
    "x_testt = np.array([x_test], dtype='float32')\n",
    "# x_testt = configure_tensor(x_test)"
   ]
  },
  {
   "cell_type": "code",
   "execution_count": 78,
   "metadata": {},
   "outputs": [],
   "source": [
    "image = tf.io.read_file(\"./Images/custom-images/WhatsApp Image 2022-06-16 at 8.28.28 PM.jpeg\")\n",
    "\n",
    "#turn jpeg to numerical Tensor with 3 color channels (RGB)\n",
    "image = tf.image.decode_jpeg(image, channels=3)\n",
    "\n",
    "image = tf.image.convert_image_dtype(image, tf.uint8)"
   ]
  },
  {
   "cell_type": "code",
   "execution_count": 80,
   "metadata": {},
   "outputs": [],
   "source": [
    "interpreter = tf.lite.Interpreter(\"./object_model.tflite\")\n",
    "interpreter.allocate_tensors()"
   ]
  },
  {
   "cell_type": "code",
   "execution_count": 81,
   "metadata": {},
   "outputs": [],
   "source": [
    "# Get input and output tensors.\n",
    "input_details = interpreter.get_input_details()\n",
    "output_details = interpreter.get_output_details()"
   ]
  },
  {
   "cell_type": "code",
   "execution_count": 83,
   "metadata": {},
   "outputs": [],
   "source": [
    "im_height, im_width = image.shape[:2]\n",
    "input_details = interpreter.get_input_details()\n",
    "output_details = interpreter.get_output_details()\n",
    "interpreter.resize_tensor_input(input_details[0]['index'], [1, im_height, im_width, 3])\n",
    "interpreter.allocate_tensors()"
   ]
  },
  {
   "cell_type": "code",
   "execution_count": 185,
   "metadata": {},
   "outputs": [
    {
     "ename": "IndexError",
     "evalue": "list index out of range",
     "output_type": "error",
     "traceback": [
      "\u001b[0;31m---------------------------------------------------------------------------\u001b[0m",
      "\u001b[0;31mIndexError\u001b[0m                                Traceback (most recent call last)",
      "\u001b[1;32m/Users/edbertekaputera/Developer/GitHub/dog_breed_classifier/Model_Development/test.ipynb Cell 7\u001b[0m in \u001b[0;36m<cell line: 1>\u001b[0;34m()\u001b[0m\n\u001b[0;32m----> <a href='vscode-notebook-cell:/Users/edbertekaputera/Developer/GitHub/dog_breed_classifier/Model_Development/test.ipynb#X24sZmlsZQ%3D%3D?line=0'>1</a>\u001b[0m interpreter\u001b[39m.\u001b[39mset_tensor(input_details[\u001b[39m7\u001b[39;49m][\u001b[39m'\u001b[39m\u001b[39mindex\u001b[39m\u001b[39m'\u001b[39m], [image])\n",
      "\u001b[0;31mIndexError\u001b[0m: list index out of range"
     ]
    }
   ],
   "source": [
    "interpreter.set_tensor(input_details[0]['index'], [image])"
   ]
  },
  {
   "cell_type": "code",
   "execution_count": 86,
   "metadata": {},
   "outputs": [],
   "source": [
    "interpreter.invoke()"
   ]
  },
  {
   "cell_type": "code",
   "execution_count": 188,
   "metadata": {},
   "outputs": [
    {
     "data": {
      "text/plain": [
       "{'name': 'StatefulPartitionedCall:3',\n",
       " 'index': 2163,\n",
       " 'shape': array([1, 1, 1], dtype=int32),\n",
       " 'shape_signature': array([ 1, -1, -1], dtype=int32),\n",
       " 'dtype': numpy.float32,\n",
       " 'quantization': (0.0, 0),\n",
       " 'quantization_parameters': {'scales': array([], dtype=float32),\n",
       "  'zero_points': array([], dtype=int32),\n",
       "  'quantized_dimension': 0},\n",
       " 'sparsity_parameters': {}}"
      ]
     },
     "execution_count": 188,
     "metadata": {},
     "output_type": "execute_result"
    }
   ],
   "source": [
    "output_details[7]\n",
    "# [   1, 1917,    4] raw detect boxes 6 = 0\n",
    "# 1 = [1,1] [1,-1] raw detect anchor0 = 1\n",
    "# [1] = NUM = 2\n",
    "# [   1, 1917,   91] raw detect scores = 3\n",
    "# [1,1,1] [1,-1,-1] detection boxes = 4\n",
    "#  = [1,1] [1,-1] detection classes = 5\n",
    "#  = [1,1] [1,-1] detection scores = 6\n",
    "# [1,1,1] [1,-1,-1] detection multiclass scores = 7"
   ]
  },
  {
   "cell_type": "code",
   "execution_count": 186,
   "metadata": {},
   "outputs": [],
   "source": [
    "output = interpreter.get_tensor(output_details[7]['index'])"
   ]
  },
  {
   "cell_type": "code",
   "execution_count": 187,
   "metadata": {},
   "outputs": [
    {
     "data": {
      "text/plain": [
       "(1, 100, 91)"
      ]
     },
     "execution_count": 187,
     "metadata": {},
     "output_type": "execute_result"
    }
   ],
   "source": [
    "output.shape"
   ]
  },
  {
   "cell_type": "code",
   "execution_count": 184,
   "metadata": {},
   "outputs": [
    {
     "data": {
      "text/plain": [
       "array([1857.,  456., 1696., 1472.,  456.,  456., 1211.,  106.,  456.,\n",
       "        228.,  277.,  456., 1220.,  111.,  106.,  344.,  241.,  234.,\n",
       "        456., 1698.,  173.,   57., 1698.,  342.,  176., 1840., 1913.,\n",
       "       1840.,  111., 1859.,   66.,  122.,  347., 1724.,  114.,  285.,\n",
       "        171.,  456.,  230.,   66.,  456.,  237.,  234.,  234.,  401.,\n",
       "         57., 1327.,  456.,  399.,  456.,  122., 1116.,  238.,  237.,\n",
       "        347.,  274.,   68., 1205.,   66., 1207.,  237.,  234.,  233.,\n",
       "        237.,  228.,  173.,  456.,  185.,   64.,  830., 1880., 1156.,\n",
       "        238.,  228.,  234.,  119.,  228.,  238.,  345.,  238.,  456.,\n",
       "        180.,  277., 1698.,  237., 1267.,  228.,  240., 1298.,   67.,\n",
       "       1122.,  123.,  173.,  239., 1912.,  456., 1724.,  237.,  241.,\n",
       "        285.], dtype=float32)"
      ]
     },
     "execution_count": 184,
     "metadata": {},
     "output_type": "execute_result"
    }
   ],
   "source": [
    "output[0]"
   ]
  },
  {
   "cell_type": "code",
   "execution_count": 43,
   "metadata": {},
   "outputs": [],
   "source": [
    "labels = []\n",
    "for folders in os.listdir(\"./Images/train_images\"):\n",
    "         labels.append(\"\".join(folders.split(\"-\")[1:]))\n",
    "unique_breeds = np.unique(labels)"
   ]
  },
  {
   "cell_type": "code",
   "execution_count": 49,
   "metadata": {},
   "outputs": [],
   "source": [
    "with open('classes.txt', mode='w') as file:\n",
    "   for x in unique_breeds:\n",
    "      file.writelines(x + '\\n')"
   ]
  },
  {
   "cell_type": "code",
   "execution_count": 54,
   "metadata": {},
   "outputs": [
    {
     "name": "stdout",
     "output_type": "stream",
     "text": [
      "['Afghan_hound', 'African_hunting_dog', 'Airedale', 'American_Staffordshire_terrier', 'Appenzeller', 'Australian_terrier', 'Bedlington_terrier', 'Bernese_mountain_dog', 'Blenheim_spaniel', 'Border_collie', 'Border_terrier', 'Boston_bull', 'Bouvier_des_Flandres', 'Brabancon_griffon', 'Brittany_spaniel', 'Cardigan', 'Chesapeake_Bay_retriever', 'Chihuahua', 'Dandie_Dinmont', 'Doberman', 'English_foxhound', 'English_setter', 'English_springer', 'EntleBucher', 'Eskimo_dog', 'French_bulldog', 'German_shepherd', 'German_shorthaired_pointer', 'Gordon_setter', 'Great_Dane', 'Great_Pyrenees', 'Greater_Swiss_Mountain_dog', 'Ibizan_hound', 'Irish_setter', 'Irish_terrier', 'Irish_water_spaniel', 'Irish_wolfhound', 'Italian_greyhound', 'Japanese_spaniel', 'Kerry_blue_terrier', 'Labrador_retriever', 'Lakeland_terrier', 'Leonberg', 'Lhasa', 'Maltese_dog', 'Mexican_hairless', 'Newfoundland', 'Norfolk_terrier', 'Norwegian_elkhound', 'Norwich_terrier', 'Old_English_sheepdog', 'Pekinese', 'Pembroke', 'Pomeranian', 'Rhodesian_ridgeback', 'Rottweiler', 'Saint_Bernard', 'Saluki', 'Samoyed', 'Scotch_terrier', 'Scottish_deerhound', 'Sealyham_terrier', 'Shetland_sheepdog', 'ShihTzu', 'Siberian_husky', 'Staffordshire_bullterrier', 'Sussex_spaniel', 'Tibetan_mastiff', 'Tibetan_terrier', 'Walker_hound', 'Weimaraner', 'Welsh_springer_spaniel', 'West_Highland_white_terrier', 'Yorkshire_terrier', 'affenpinscher', 'basenji', 'basset', 'beagle', 'blackandtan_coonhound', 'bloodhound', 'bluetick', 'borzoi', 'boxer', 'briard', 'bull_mastiff', 'cairn', 'chow', 'clumber', 'cocker_spaniel', 'collie', 'curlycoated_retriever', 'dhole', 'dingo', 'flatcoated_retriever', 'giant_schnauzer', 'golden_retriever', 'groenendael', 'keeshond', 'kelpie', 'komondor', 'kuvasz', 'malamute', 'malinois', 'miniature_pinscher', 'miniature_poodle', 'miniature_schnauzer', 'otterhound', 'papillon', 'pug', 'redbone', 'schipperke', 'silky_terrier', 'softcoated_wheaten_terrier', 'standard_poodle', 'standard_schnauzer', 'toy_poodle', 'toy_terrier', 'vizsla', 'whippet', 'wirehaired_fox_terrier']\n"
     ]
    }
   ],
   "source": [
    "classes = []\n",
    "with open(\"./classes.txt\", mode=\"r\") as file:\n",
    "   for row in file:\n",
    "      classes.append(row.rstrip(\"\\n\"))\n",
    "print(classes)"
   ]
  },
  {
   "cell_type": "code",
   "execution_count": 55,
   "metadata": {},
   "outputs": [
    {
     "data": {
      "text/plain": [
       "120"
      ]
     },
     "execution_count": 55,
     "metadata": {},
     "output_type": "execute_result"
    }
   ],
   "source": [
    "len(classes)"
   ]
  },
  {
   "cell_type": "code",
   "execution_count": null,
   "metadata": {},
   "outputs": [],
   "source": []
  }
 ],
 "metadata": {
  "kernelspec": {
   "display_name": "Python 3.9.7 ('env': venv)",
   "language": "python",
   "name": "python3"
  },
  "language_info": {
   "codemirror_mode": {
    "name": "ipython",
    "version": 3
   },
   "file_extension": ".py",
   "mimetype": "text/x-python",
   "name": "python",
   "nbconvert_exporter": "python",
   "pygments_lexer": "ipython3",
   "version": "3.9.7"
  },
  "orig_nbformat": 4,
  "vscode": {
   "interpreter": {
    "hash": "6e8fa6b6962f9737734464b5ef3d5cb0f59eed0324524b78914aea9d7ca5ef1c"
   }
  }
 },
 "nbformat": 4,
 "nbformat_minor": 2
}
